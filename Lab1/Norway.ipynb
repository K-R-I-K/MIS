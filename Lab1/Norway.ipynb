{
 "cells": [
  {
   "cell_type": "markdown",
   "id": "dc732670-a21f-42fb-a2da-adcaa31bd173",
   "metadata": {
    "tags": []
   },
   "source": [
    "# Норвегія\n",
    "<img style=\"width:100px; height:auto\" src=\"https://upload.wikimedia.org/wikipedia/commons/thumb/9/95/Coat_of_arms_of_Norway.svg/800px-Coat_of_arms_of_Norway.svg.png\">"
   ]
  },
  {
   "cell_type": "code",
   "execution_count": 1,
   "id": "a171dc4c-9d02-4acf-80ef-5c9ff486fffd",
   "metadata": {},
   "outputs": [
    {
     "data": {
      "text/html": [
       "<svg width=\"300\" height=\"150\">\n",
       "  <rect width=\"100%\" height=\"100%\" fill=\"#EF3340\" />\n",
       "  <rect x=\"25%\" y=\"0%\" width=\"20%\" height=\"100%\" fill=\"#fff\" />\n",
       "  <rect x=\"0\" y=\"30%\" width=\"100%\" height=\"30%\" fill=\"#fff\" />\n",
       "  <rect x=\"30%\" y=\"0%\" width=\"10%\" height=\"100%\" fill=\"#00205B\" />\n",
       "  <rect x=\"0\" y=\"35%\" width=\"100%\" height=\"20%\" fill=\"#00205B\" />\n",
       "</svg>\n"
      ],
      "text/plain": [
       "<IPython.core.display.HTML object>"
      ]
     },
     "metadata": {},
     "output_type": "display_data"
    }
   ],
   "source": [
    "%%HTML\n",
    "<svg width=\"300\" height=\"150\">\n",
    "  <rect width=\"100%\" height=\"100%\" fill=\"#EF3340\" />\n",
    "  <rect x=\"25%\" y=\"0%\" width=\"20%\" height=\"100%\" fill=\"#fff\" />\n",
    "  <rect x=\"0\" y=\"30%\" width=\"100%\" height=\"30%\" fill=\"#fff\" />\n",
    "  <rect x=\"30%\" y=\"0%\" width=\"10%\" height=\"100%\" fill=\"#00205B\" />\n",
    "  <rect x=\"0\" y=\"35%\" width=\"100%\" height=\"20%\" fill=\"#00205B\" />\n",
    "</svg>"
   ]
  },
  {
   "cell_type": "markdown",
   "id": "b4be0985-0712-429a-92a2-a79ee7820359",
   "metadata": {
    "tags": []
   },
   "source": [
    "## 1) Основні факти\n",
    "\n",
    "* **Площа:** 148,729 км²\n",
    "* **Населення:** близько 5.4 мільйонів\n",
    "\n",
    "## 2) Державний устрій\n",
    "* Норвегія є конституційною монархією з парламентською демократією.\n",
    "\n",
    "## <div style=\"border: 2px solid #000; padding: 10px;\"> 3) Видатні персоналії </div>\n",
    "* *Гаардер Грінг,* норвезький письменник і лауреат Нобелівської премії з літератури.\n",
    "* *Грета Тунберг,* молода шведська активістка з екології.\n",
    "\n",
    "## <div style=\"color: blue; font-size: 1.5rem\"> 4) Пам'ятки культури </div>\n",
    "| Назва                                                |  Опис                                                                                  |\n",
    "|------------------------------------------------------|----------------------------------------------------------------------------------------|\n",
    "| Вікінгський корабель в Музеї Культурної Історії, Осло| Унікальна можливість побачити добре збережений вікінгський корабель                    |\n",
    "| Опера в Осло                                         | Сучасний і архітектурно захоплюючий театр, де представляють висококласні оперні вистави|  \n",
    "\n",
    "## <div style=\"color: green; font-size: 1.5rem\"> 5) Природні краси </div>\n",
    "* *Фьорди:* Норвегія славиться своїми красивими фьордами, такими як Свангер та Неройфьорд.\n",
    "* *Північне сяйво:* У північних регіонах країни можна побачити захоплююче північне сяйво."
   ]
  }
 ],
 "metadata": {
  "kernelspec": {
   "display_name": "Python 3 (ipykernel)",
   "language": "python",
   "name": "python3"
  },
  "language_info": {
   "codemirror_mode": {
    "name": "ipython",
    "version": 3
   },
   "file_extension": ".py",
   "mimetype": "text/x-python",
   "name": "python",
   "nbconvert_exporter": "python",
   "pygments_lexer": "ipython3",
   "version": "3.11.5"
  }
 },
 "nbformat": 4,
 "nbformat_minor": 5
}
