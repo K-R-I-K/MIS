{
 "cells": [
  {
   "cell_type": "code",
   "execution_count": 40,
   "id": "01dbf702-870c-49d9-a760-3597226ccf3b",
   "metadata": {
    "tags": []
   },
   "outputs": [],
   "source": [
    "def task10():\n",
    "    def is_sum_of_squares(N):\n",
    "        for a in range(1, int(N**0.5) + 1):\n",
    "            b_square = N - a**2\n",
    "            b = int(b_square**0.5)\n",
    "\n",
    "            if b_square == b**2:\n",
    "                return True, a, b\n",
    "\n",
    "        return False, None, None\n",
    "\n",
    "    try:\n",
    "        N = int(input(\"Введіть число N: \"))  \n",
    "    except ValueError:\n",
    "        return \"Введено нечислове значення. Спробуйте ще раз.\"\n",
    "    if (N < 0):\n",
    "        return \"Введено відємне значення. Спробуйте ще раз.\"\n",
    "    else:\n",
    "        result, a, b = is_sum_of_squares(N)\n",
    "        if result:\n",
    "            return f\"{a}^2 + {b}^2 = {N}\"\n",
    "        else:\n",
    "            return f\"Число {N} не можна представити квадратами цілих чисел\""
   ]
  },
  {
   "cell_type": "code",
   "execution_count": 19,
   "id": "23df2a34-45e0-4fd7-81be-233ae65148c2",
   "metadata": {
    "tags": []
   },
   "outputs": [
    {
     "name": "stdin",
     "output_type": "stream",
     "text": [
      "Введіть число N:  45\n"
     ]
    },
    {
     "data": {
      "text/plain": [
       "'3^2 + 6^2 = 45'"
      ]
     },
     "execution_count": 19,
     "metadata": {},
     "output_type": "execute_result"
    }
   ],
   "source": [
    "task10()"
   ]
  },
  {
   "cell_type": "code",
   "execution_count": 43,
   "id": "36e86a96-aa18-4b4c-a5be-d55e226323b9",
   "metadata": {
    "tags": []
   },
   "outputs": [
    {
     "name": "stdin",
     "output_type": "stream",
     "text": [
      "Введіть число N:  21\n"
     ]
    },
    {
     "data": {
      "text/plain": [
       "'Число 21 не можна представити квадратами цілих чисел'"
      ]
     },
     "execution_count": 43,
     "metadata": {},
     "output_type": "execute_result"
    }
   ],
   "source": [
    "task10()"
   ]
  },
  {
   "cell_type": "code",
   "execution_count": 44,
   "id": "dada86e6-e3d5-4fe8-8d89-6d7bfbf2fdb6",
   "metadata": {
    "tags": []
   },
   "outputs": [
    {
     "name": "stdin",
     "output_type": "stream",
     "text": [
      "Введіть число N:  asd\n"
     ]
    },
    {
     "data": {
      "text/plain": [
       "'Введено нечислове значення. Спробуйте ще раз.'"
      ]
     },
     "execution_count": 44,
     "metadata": {},
     "output_type": "execute_result"
    }
   ],
   "source": [
    "task10()"
   ]
  },
  {
   "cell_type": "code",
   "execution_count": 45,
   "id": "90636bbb-400c-4211-9b09-838dcf06549c",
   "metadata": {
    "tags": []
   },
   "outputs": [
    {
     "name": "stdin",
     "output_type": "stream",
     "text": [
      "Введіть число N:  -10\n"
     ]
    },
    {
     "data": {
      "text/plain": [
       "'Введено відємне значення. Спробуйте ще раз.'"
      ]
     },
     "execution_count": 45,
     "metadata": {},
     "output_type": "execute_result"
    }
   ],
   "source": [
    "task10()"
   ]
  },
  {
   "cell_type": "code",
   "execution_count": null,
   "id": "2728cb92-9dcd-4bbc-87d5-1e42b4293e14",
   "metadata": {},
   "outputs": [],
   "source": []
  }
 ],
 "metadata": {
  "kernelspec": {
   "display_name": "Python 3 (ipykernel)",
   "language": "python",
   "name": "python3"
  },
  "language_info": {
   "codemirror_mode": {
    "name": "ipython",
    "version": 3
   },
   "file_extension": ".py",
   "mimetype": "text/x-python",
   "name": "python",
   "nbconvert_exporter": "python",
   "pygments_lexer": "ipython3",
   "version": "3.11.5"
  }
 },
 "nbformat": 4,
 "nbformat_minor": 5
}
