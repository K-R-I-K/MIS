{
 "cells": [
  {
   "cell_type": "markdown",
   "id": "5ffa89ea-aad9-4cdf-8fd6-848155a83f46",
   "metadata": {},
   "source": [
    "Варіант 5"
   ]
  },
  {
   "cell_type": "code",
   "execution_count": 1,
   "id": "8c59c257-2a7c-45e3-884b-089c1d62f56d",
   "metadata": {
    "tags": []
   },
   "outputs": [],
   "source": [
    "import numpy as np\n",
    "import pandas as pd"
   ]
  },
  {
   "cell_type": "code",
   "execution_count": 2,
   "id": "2c3e1469-3005-4768-9fc6-9459a09150e6",
   "metadata": {
    "tags": []
   },
   "outputs": [],
   "source": [
    "csv_file_path = 'C:\\\\Users\\\\Kyryl\\\\!MIC\\\\Lab3\\\\NationalNames.csv'\n",
    "df = pd.read_csv(csv_file_path)    "
   ]
  },
  {
   "cell_type": "markdown",
   "id": "4d46b34b-4f9f-49d7-87fe-16917cd79745",
   "metadata": {},
   "source": [
    "2. Вивести останні 8 рядків набору даних."
   ]
  },
  {
   "cell_type": "code",
   "execution_count": 3,
   "id": "2e6fc7f9-eb86-4173-8ff3-0860847e2eb2",
   "metadata": {
    "tags": []
   },
   "outputs": [
    {
     "data": {
      "text/html": [
       "<div>\n",
       "<style scoped>\n",
       "    .dataframe tbody tr th:only-of-type {\n",
       "        vertical-align: middle;\n",
       "    }\n",
       "\n",
       "    .dataframe tbody tr th {\n",
       "        vertical-align: top;\n",
       "    }\n",
       "\n",
       "    .dataframe thead th {\n",
       "        text-align: right;\n",
       "    }\n",
       "</style>\n",
       "<table border=\"1\" class=\"dataframe\">\n",
       "  <thead>\n",
       "    <tr style=\"text-align: right;\">\n",
       "      <th></th>\n",
       "      <th>Id</th>\n",
       "      <th>Name</th>\n",
       "      <th>Year</th>\n",
       "      <th>Gender</th>\n",
       "      <th>Count</th>\n",
       "    </tr>\n",
       "  </thead>\n",
       "  <tbody>\n",
       "    <tr>\n",
       "      <th>1825425</th>\n",
       "      <td>1825426</td>\n",
       "      <td>Zo</td>\n",
       "      <td>2014</td>\n",
       "      <td>M</td>\n",
       "      <td>5</td>\n",
       "    </tr>\n",
       "    <tr>\n",
       "      <th>1825426</th>\n",
       "      <td>1825427</td>\n",
       "      <td>Zyeir</td>\n",
       "      <td>2014</td>\n",
       "      <td>M</td>\n",
       "      <td>5</td>\n",
       "    </tr>\n",
       "    <tr>\n",
       "      <th>1825427</th>\n",
       "      <td>1825428</td>\n",
       "      <td>Zyel</td>\n",
       "      <td>2014</td>\n",
       "      <td>M</td>\n",
       "      <td>5</td>\n",
       "    </tr>\n",
       "    <tr>\n",
       "      <th>1825428</th>\n",
       "      <td>1825429</td>\n",
       "      <td>Zykeem</td>\n",
       "      <td>2014</td>\n",
       "      <td>M</td>\n",
       "      <td>5</td>\n",
       "    </tr>\n",
       "    <tr>\n",
       "      <th>1825429</th>\n",
       "      <td>1825430</td>\n",
       "      <td>Zymeer</td>\n",
       "      <td>2014</td>\n",
       "      <td>M</td>\n",
       "      <td>5</td>\n",
       "    </tr>\n",
       "    <tr>\n",
       "      <th>1825430</th>\n",
       "      <td>1825431</td>\n",
       "      <td>Zymiere</td>\n",
       "      <td>2014</td>\n",
       "      <td>M</td>\n",
       "      <td>5</td>\n",
       "    </tr>\n",
       "    <tr>\n",
       "      <th>1825431</th>\n",
       "      <td>1825432</td>\n",
       "      <td>Zyran</td>\n",
       "      <td>2014</td>\n",
       "      <td>M</td>\n",
       "      <td>5</td>\n",
       "    </tr>\n",
       "    <tr>\n",
       "      <th>1825432</th>\n",
       "      <td>1825433</td>\n",
       "      <td>Zyrin</td>\n",
       "      <td>2014</td>\n",
       "      <td>M</td>\n",
       "      <td>5</td>\n",
       "    </tr>\n",
       "  </tbody>\n",
       "</table>\n",
       "</div>"
      ],
      "text/plain": [
       "              Id     Name  Year Gender  Count\n",
       "1825425  1825426       Zo  2014      M      5\n",
       "1825426  1825427    Zyeir  2014      M      5\n",
       "1825427  1825428     Zyel  2014      M      5\n",
       "1825428  1825429   Zykeem  2014      M      5\n",
       "1825429  1825430   Zymeer  2014      M      5\n",
       "1825430  1825431  Zymiere  2014      M      5\n",
       "1825431  1825432    Zyran  2014      M      5\n",
       "1825432  1825433    Zyrin  2014      M      5"
      ]
     },
     "metadata": {},
     "output_type": "display_data"
    }
   ],
   "source": [
    "display(df.tail(8))"
   ]
  },
  {
   "cell_type": "markdown",
   "id": "f5df2c8b-ad5f-40db-adfe-c42a8083159a",
   "metadata": {},
   "source": [
    "4. Отримайте загальну інформацію про дані у наборі даних."
   ]
  },
  {
   "cell_type": "code",
   "execution_count": 4,
   "id": "b8a31bb4-4b96-4708-9118-3f3b2e5d4a90",
   "metadata": {
    "tags": []
   },
   "outputs": [
    {
     "data": {
      "text/html": [
       "<div>\n",
       "<style scoped>\n",
       "    .dataframe tbody tr th:only-of-type {\n",
       "        vertical-align: middle;\n",
       "    }\n",
       "\n",
       "    .dataframe tbody tr th {\n",
       "        vertical-align: top;\n",
       "    }\n",
       "\n",
       "    .dataframe thead th {\n",
       "        text-align: right;\n",
       "    }\n",
       "</style>\n",
       "<table border=\"1\" class=\"dataframe\">\n",
       "  <thead>\n",
       "    <tr style=\"text-align: right;\">\n",
       "      <th></th>\n",
       "      <th>Id</th>\n",
       "      <th>Year</th>\n",
       "      <th>Count</th>\n",
       "    </tr>\n",
       "  </thead>\n",
       "  <tbody>\n",
       "    <tr>\n",
       "      <th>count</th>\n",
       "      <td>1.825433e+06</td>\n",
       "      <td>1.825433e+06</td>\n",
       "      <td>1.825433e+06</td>\n",
       "    </tr>\n",
       "    <tr>\n",
       "      <th>mean</th>\n",
       "      <td>9.127170e+05</td>\n",
       "      <td>1.972620e+03</td>\n",
       "      <td>1.846879e+02</td>\n",
       "    </tr>\n",
       "    <tr>\n",
       "      <th>std</th>\n",
       "      <td>5.269573e+05</td>\n",
       "      <td>3.352891e+01</td>\n",
       "      <td>1.566711e+03</td>\n",
       "    </tr>\n",
       "    <tr>\n",
       "      <th>min</th>\n",
       "      <td>1.000000e+00</td>\n",
       "      <td>1.880000e+03</td>\n",
       "      <td>5.000000e+00</td>\n",
       "    </tr>\n",
       "    <tr>\n",
       "      <th>25%</th>\n",
       "      <td>4.563590e+05</td>\n",
       "      <td>1.949000e+03</td>\n",
       "      <td>7.000000e+00</td>\n",
       "    </tr>\n",
       "    <tr>\n",
       "      <th>50%</th>\n",
       "      <td>9.127170e+05</td>\n",
       "      <td>1.982000e+03</td>\n",
       "      <td>1.200000e+01</td>\n",
       "    </tr>\n",
       "    <tr>\n",
       "      <th>75%</th>\n",
       "      <td>1.369075e+06</td>\n",
       "      <td>2.001000e+03</td>\n",
       "      <td>3.200000e+01</td>\n",
       "    </tr>\n",
       "    <tr>\n",
       "      <th>max</th>\n",
       "      <td>1.825433e+06</td>\n",
       "      <td>2.014000e+03</td>\n",
       "      <td>9.968000e+04</td>\n",
       "    </tr>\n",
       "  </tbody>\n",
       "</table>\n",
       "</div>"
      ],
      "text/plain": [
       "                 Id          Year         Count\n",
       "count  1.825433e+06  1.825433e+06  1.825433e+06\n",
       "mean   9.127170e+05  1.972620e+03  1.846879e+02\n",
       "std    5.269573e+05  3.352891e+01  1.566711e+03\n",
       "min    1.000000e+00  1.880000e+03  5.000000e+00\n",
       "25%    4.563590e+05  1.949000e+03  7.000000e+00\n",
       "50%    9.127170e+05  1.982000e+03  1.200000e+01\n",
       "75%    1.369075e+06  2.001000e+03  3.200000e+01\n",
       "max    1.825433e+06  2.014000e+03  9.968000e+04"
      ]
     },
     "metadata": {},
     "output_type": "display_data"
    }
   ],
   "source": [
    "display(df.describe())"
   ]
  },
  {
   "cell_type": "markdown",
   "id": "a0b402a8-036a-45a2-9f38-25df73af5a18",
   "metadata": {},
   "source": [
    "6. Обчисліть кількість унікальних жіночих та чоловічих імен у цілому наборі даних"
   ]
  },
  {
   "cell_type": "code",
   "execution_count": 5,
   "id": "0f4ae37b-0364-4954-9aa7-b4155149fe63",
   "metadata": {
    "tags": []
   },
   "outputs": [
    {
     "name": "stdout",
     "output_type": "stream",
     "text": [
      "  Gender   Name\n",
      "0      F  64911\n",
      "1      M  39199\n"
     ]
    }
   ],
   "source": [
    "unique_names = df['Name'].unique()\n",
    "male_names_count = df[df['Gender'] == 'M']['Name'].nunique()\n",
    "female_names_count = df[df['Gender'] == 'F']['Name'].nunique()\n",
    "\n",
    "result = pd.DataFrame({\n",
    "    'Gender': ['F', 'M'],\n",
    "    'Name': [female_names_count, male_names_count]\n",
    "})\n",
    "\n",
    "print(result)"
   ]
  },
  {
   "cell_type": "markdown",
   "id": "49aaf617-e5c6-4edc-99bc-058af3a63679",
   "metadata": {},
   "source": [
    "7. Знайдіть 5 найпопулярніших чоловічих імен у 2010 році"
   ]
  },
  {
   "cell_type": "code",
   "execution_count": 6,
   "id": "1c82c461-2515-421d-9bad-7abe9b438d69",
   "metadata": {
    "tags": []
   },
   "outputs": [
    {
     "name": "stdout",
     "output_type": "stream",
     "text": [
      "              Id     Name  Year Gender  Count\n",
      "1677392  1677393    Jacob  2010      M  22082\n",
      "1677393  1677394    Ethan  2010      M  17985\n",
      "1677394  1677395  Michael  2010      M  17308\n",
      "1677395  1677396   Jayden  2010      M  17152\n",
      "1677396  1677397  William  2010      M  17030\n"
     ]
    }
   ],
   "source": [
    "df_2010_male = df[(df['Year'] == 2010) & (df['Gender'] == 'M')]\n",
    "\n",
    "sorted_df = df_2010_male.sort_values(by='Count', ascending=False)\n",
    "top_5_male_names = sorted_df.head(5)[['Id', 'Name','Year','Gender', 'Count']]\n",
    "\n",
    "print(top_5_male_names)"
   ]
  },
  {
   "cell_type": "markdown",
   "id": "243b87b3-a309-462b-ace4-0166c9eda0a6",
   "metadata": {},
   "source": [
    "9. Підрахуйте кількість записів, для яких Count - мінімальне у наборі."
   ]
  },
  {
   "cell_type": "code",
   "execution_count": 7,
   "id": "0aeff8c4-fc95-48b8-af17-eb1d35764e74",
   "metadata": {
    "tags": []
   },
   "outputs": [
    {
     "name": "stdout",
     "output_type": "stream",
     "text": [
      "254615\n"
     ]
    }
   ],
   "source": [
    "min_count = df['Count'].min()\n",
    "\n",
    "min_count_records = df[df['Count'] == min_count]\n",
    "\n",
    "count_min_records = min_count_records.shape[0]\n",
    "print(count_min_records)"
   ]
  },
  {
   "cell_type": "markdown",
   "id": "828ee383-ba10-4d83-a6c9-53bfee775de3",
   "metadata": {},
   "source": [
    "10. Підрахуйте кількість унікальних імен у кожному році"
   ]
  },
  {
   "cell_type": "code",
   "execution_count": 8,
   "id": "369794c9-65d9-4d13-9f08-9e78fa4975a5",
   "metadata": {
    "tags": []
   },
   "outputs": [
    {
     "name": "stdout",
     "output_type": "stream",
     "text": [
      "Year\n",
      "1880     1889\n",
      "1881     1830\n",
      "1882     2012\n",
      "1883     1962\n",
      "1884     2158\n",
      "        ...  \n",
      "2010    31603\n",
      "2011    31418\n",
      "2012    31236\n",
      "2013    30774\n",
      "2014    30579\n",
      "Name: Name, Length: 135, dtype: int64\n"
     ]
    }
   ],
   "source": [
    "unique_names_by_year = df.groupby('Year')['Name'].nunique()\n",
    "\n",
    "print(unique_names_by_year)"
   ]
  },
  {
   "cell_type": "markdown",
   "id": "12d4129e-2875-4501-9d9b-cc383c02c89d",
   "metadata": {},
   "source": [
    "15. Знайдіть загальну кількість народжень за рік."
   ]
  },
  {
   "cell_type": "code",
   "execution_count": 9,
   "id": "aa7a6069-354a-47c4-b4b3-321e570de26b",
   "metadata": {
    "tags": []
   },
   "outputs": [
    {
     "name": "stdout",
     "output_type": "stream",
     "text": [
      "Year\n",
      "1880     201484\n",
      "1881     192699\n",
      "1882     221538\n",
      "1883     216950\n",
      "1884     243467\n",
      "         ...   \n",
      "2010    3686589\n",
      "2011    3646730\n",
      "2012    3643336\n",
      "2013    3626802\n",
      "2014    3670151\n",
      "Name: Count, Length: 135, dtype: int64\n"
     ]
    }
   ],
   "source": [
    "births_by_year = df.groupby('Year')['Count'].sum()\n",
    "\n",
    "print(births_by_year)"
   ]
  },
  {
   "cell_type": "markdown",
   "id": "702f6cfc-cb26-4ff6-984f-0068156fece4",
   "metadata": {},
   "source": [
    "16. Знайдіть рік, коли народилося найбільше дітей"
   ]
  },
  {
   "cell_type": "code",
   "execution_count": 10,
   "id": "1f7a534c-085a-4b47-bdae-6d90c2a4713d",
   "metadata": {
    "tags": []
   },
   "outputs": [
    {
     "name": "stdout",
     "output_type": "stream",
     "text": [
      "Рік з найбільшою кількістю народжень: 1957\n"
     ]
    }
   ],
   "source": [
    "max_births_year = births_by_year.idxmax()\n",
    "\n",
    "print(\"Рік з найбільшою кількістю народжень:\", max_births_year)"
   ]
  },
  {
   "cell_type": "markdown",
   "id": "b2967501-649a-4c2a-a2a9-1f8238a169cf",
   "metadata": {},
   "source": [
    "17. Знайдіть кількість дівчаток та хлопчиків, які народились кожного року"
   ]
  },
  {
   "cell_type": "code",
   "execution_count": 11,
   "id": "0c1e31b6-90ea-47fb-9751-59cbfd847795",
   "metadata": {
    "tags": []
   },
   "outputs": [
    {
     "name": "stdout",
     "output_type": "stream",
     "text": [
      "Кількість народжень дівчаток та хлопчиків за роками:\n",
      "Gender        F        M\n",
      "Year                    \n",
      "1880      90993   110491\n",
      "1881      91954   100745\n",
      "1882     107850   113688\n",
      "1883     112321   104629\n",
      "1884     129022   114445\n",
      "...         ...      ...\n",
      "2010    1772738  1913851\n",
      "2011    1753500  1893230\n",
      "2012    1753922  1889414\n",
      "2013    1745339  1881463\n",
      "2014    1768775  1901376\n",
      "\n",
      "[135 rows x 2 columns]\n"
     ]
    }
   ],
   "source": [
    "gender_counts_per_year = df.groupby(['Year', 'Gender']).sum()['Count'].unstack()\n",
    "\n",
    "print(\"Кількість народжень дівчаток та хлопчиків за роками:\")\n",
    "print(gender_counts_per_year)"
   ]
  },
  {
   "cell_type": "markdown",
   "id": "5ad45adf-e76e-4a09-b576-149abf9cbdd8",
   "metadata": {},
   "source": [
    "18. Підрахуйте кількість років, коли дівчаток народжувалось більше, ніж хлопчиків."
   ]
  },
  {
   "cell_type": "code",
   "execution_count": 12,
   "id": "dbb8f115-8903-4eb7-8a5f-c71370ef7d96",
   "metadata": {
    "tags": []
   },
   "outputs": [
    {
     "name": "stdout",
     "output_type": "stream",
     "text": [
      "Кількість років, коли дівчаток народжувалось більше, ніж хлопчиків: 54\n"
     ]
    }
   ],
   "source": [
    "gender_counts = df.groupby(['Year', 'Gender']).sum()['Count'].unstack(fill_value=0)\n",
    "\n",
    "years_with_more_girls = (gender_counts['F'] > gender_counts['M']).sum()\n",
    "\n",
    "print(f\"Кількість років, коли дівчаток народжувалось більше, ніж хлопчиків: {years_with_more_girls}\")"
   ]
  },
  {
   "cell_type": "markdown",
   "id": "e04e990e-33c4-4763-92fc-773b05a4f3dc",
   "metadata": {},
   "source": [
    "20. Підрахуйте кількість гендерно-нейтральних імен (однакових для дівчат та хлопців)"
   ]
  },
  {
   "cell_type": "code",
   "execution_count": 13,
   "id": "59dfdfde-b336-4a14-8d3f-b58b0d0f6053",
   "metadata": {
    "tags": []
   },
   "outputs": [
    {
     "name": "stdout",
     "output_type": "stream",
     "text": [
      "Кількість гендерно-нейтральних імен: 10221\n"
     ]
    }
   ],
   "source": [
    "female_names = set(df[df['Gender'] == 'F']['Name'])\n",
    "male_names = set(df[df['Gender'] == 'M']['Name'])\n",
    "\n",
    "gender_neutral_names = female_names.intersection(male_names)\n",
    "count_gender_neutral_names = len(gender_neutral_names)\n",
    "\n",
    "print(f\"Кількість гендерно-нейтральних імен: {count_gender_neutral_names}\")"
   ]
  },
  {
   "cell_type": "markdown",
   "id": "3bcd0dce-f3f9-466c-8038-f39edd06d81a",
   "metadata": {},
   "source": [
    "21. Порахуйте, скільки разів хлопчиків називали Barbara"
   ]
  },
  {
   "cell_type": "code",
   "execution_count": 14,
   "id": "1e7214b6-8edf-440d-8e64-f7286291178c",
   "metadata": {
    "tags": []
   },
   "outputs": [
    {
     "name": "stdout",
     "output_type": "stream",
     "text": [
      "Кількість хлопчиків з ім'ям Barbara: 4139\n"
     ]
    }
   ],
   "source": [
    "barbara_male_count = df[(df['Name'] == 'Barbara') & (df['Gender'] == 'M')]['Count'].sum()\n",
    "\n",
    "print(\"Кількість хлопчиків з ім'ям Barbara:\", barbara_male_count)"
   ]
  },
  {
   "cell_type": "markdown",
   "id": "234257b4-bad9-4ea5-94c6-ec6897ff964e",
   "metadata": {},
   "source": [
    "22. Підрахуйте скільки років проводилось спостереження"
   ]
  },
  {
   "cell_type": "code",
   "execution_count": 10,
   "id": "b45221f4-9c0d-4f40-af34-d1975139e5cd",
   "metadata": {
    "tags": []
   },
   "outputs": [
    {
     "name": "stdout",
     "output_type": "stream",
     "text": [
      "Cпостереження проводилось 135 років\n"
     ]
    }
   ],
   "source": [
    "observation_years = df['Year'].max() - df['Year'].min() + 1\n",
    "\n",
    "print(\"Cпостереження проводилось\", observation_years, \"років\")"
   ]
  },
  {
   "cell_type": "markdown",
   "id": "f34f2387-0816-4d3a-b40c-5c63a54c640d",
   "metadata": {},
   "source": [
    "23. Знати найпопулярніші гендерно-нейтральні імена (ті, що присутні кожного року)"
   ]
  },
  {
   "cell_type": "code",
   "execution_count": 16,
   "id": "b0e3f155-a2de-40ec-9407-8fca9a84b297",
   "metadata": {
    "tags": []
   },
   "outputs": [
    {
     "name": "stdout",
     "output_type": "stream",
     "text": [
      "{'Lee', 'Tommie', 'Joseph', 'Jessie', 'Francis', 'Jesse', 'Leslie', 'William', 'Ollie', 'Marion', 'Robert', 'Johnnie', 'Jean', 'John', 'James', 'Sidney'}\n"
     ]
    }
   ],
   "source": [
    "neutral_names_by_year = {}\n",
    "\n",
    "for year in df['Year'].unique():\n",
    "    female_names = set(df[(df['Gender'] == 'F') & (df['Year'] == year)]['Name'])\n",
    "    male_names = set(df[(df['Gender'] == 'M') & (df['Year'] == year)]['Name'])\n",
    "    neutral_names_by_year[year] = female_names.intersection(male_names)\n",
    "\n",
    "common_neutral_names = set.intersection(*neutral_names_by_year.values())\n",
    "\n",
    "print(common_neutral_names)"
   ]
  },
  {
   "cell_type": "markdown",
   "id": "b502cea4-e41b-425b-afa6-47505eccdf4e",
   "metadata": {},
   "source": [
    "25. Побудувати графіки розподілення кількості імен John та Mary по роках без залежності до статі."
   ]
  },
  {
   "cell_type": "code",
   "execution_count": 18,
   "id": "82ca85c3-e685-4e44-b509-c18dbdf2e1c4",
   "metadata": {
    "tags": []
   },
   "outputs": [
    {
     "data": {
      "image/png": "[encoded data removed]",
      "text/plain": [
       "<Figure size 1000x600 with 1 Axes>"
      ]
     },
     "metadata": {},
     "output_type": "display_data"
    }
   ],
   "source": [
    "import matplotlib.pyplot as plt\n",
    "\n",
    "name_counts = df.groupby(['Year', 'Name'])['Count'].sum()\n",
    "john_data = name_counts.loc[:, 'John']\n",
    "mary_data = name_counts.loc[:, 'Mary']\n",
    "\n",
    "plt.figure(figsize=(10, 6))\n",
    "plt.plot(john_data.index, john_data.values, label='John')\n",
    "plt.plot(mary_data.index, mary_data.values, label='Mary')\n",
    "plt.xlabel('Year')\n",
    "plt.legend()\n",
    "plt.show()"
   ]
  },
  {
   "cell_type": "markdown",
   "id": "4d55106c-c69f-4da1-b404-5af3cc8a7ac1",
   "metadata": {},
   "source": [
    "26. Побудувати графіки розподілення кількості жіночих імен John та чоловічих імен Mary по роках."
   ]
  },
  {
   "cell_type": "code",
   "execution_count": 8,
   "id": "f108d57d-ea8f-4d37-889c-a73ebd4713c1",
   "metadata": {},
   "outputs": [
    {
     "data": {
      "image/png": "[encoded data removed]",
      "text/plain": [
       "<Figure size 1200x600 with 1 Axes>"
      ]
     },
     "metadata": {},
     "output_type": "display_data"
    }
   ],
   "source": [
    "import matplotlib.pyplot as plt\n",
    "\n",
    "john_data = df[(df['Name'] == 'John') & (df['Gender'] == 'F')]\n",
    "mary_data = df[(df['Name'] == 'Mary') & (df['Gender'] == 'M')]\n",
    "\n",
    "john_counts_by_year = john_data.groupby('Year')['Count'].sum()\n",
    "mary_counts_by_year = mary_data.groupby('Year')['Count'].sum()\n",
    "\n",
    "plt.figure(figsize=(12, 6))\n",
    "plt.plot(john_counts_by_year.index, john_counts_by_year.values, label='John', color='blue')\n",
    "plt.plot(mary_counts_by_year.index, mary_counts_by_year.values, label='Mary', color='red')\n",
    "plt.legend()\n",
    "plt.show()"
   ]
  },
  {
   "cell_type": "markdown",
   "id": "4cb690bb-df0e-4ca3-8bbb-4a98708c6274",
   "metadata": {},
   "source": [
    "27. Знайти найпопулярніші імена в кожному році."
   ]
  },
  {
   "cell_type": "code",
   "execution_count": 19,
   "id": "cea5edd9-2950-461a-a7ed-ebf2276effbd",
   "metadata": {
    "tags": []
   },
   "outputs": [
    {
     "name": "stdout",
     "output_type": "stream",
     "text": [
      "         Year      Name  Count\n",
      "942      1880      John   9655\n",
      "2938     1881      John   8769\n",
      "4963     1882      John   9557\n",
      "7116     1883      John   8894\n",
      "9318     1884      John   9388\n",
      "...       ...       ...    ...\n",
      "1657592  2010  Isabella  22883\n",
      "1691633  2011    Sophia  21816\n",
      "1725502  2012    Sophia  22267\n",
      "1759186  2013    Sophia  21147\n",
      "1792389  2014      Emma  20799\n",
      "\n",
      "[135 rows x 3 columns]\n"
     ]
    }
   ],
   "source": [
    "most_popular_names_by_year = df.loc[df.groupby('Year')['Count'].idxmax()][['Year', 'Name', 'Count']]\n",
    "\n",
    "print(most_popular_names_by_year)"
   ]
  }
 ],
 "metadata": {
  "kernelspec": {
   "display_name": "Python 3 (ipykernel)",
   "language": "python",
   "name": "python3"
  },
  "language_info": {
   "codemirror_mode": {
    "name": "ipython",
    "version": 3
   },
   "file_extension": ".py",
   "mimetype": "text/x-python",
   "name": "python",
   "nbconvert_exporter": "python",
   "pygments_lexer": "ipython3",
   "version": "3.11.5"
  }
 },
 "nbformat": 4,
 "nbformat_minor": 5
}
