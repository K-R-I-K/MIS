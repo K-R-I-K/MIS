{
 "cells": [
  {
   "cell_type": "markdown",
   "id": "eb4ee5d6-bc60-4f62-93df-14b66e62de04",
   "metadata": {},
   "source": [
    "Вправа 3.\n",
    "Вводяться 4 числа n, m, r, c. Вивести масив розміру n×m, в якому в кожному рядку з номером r і в кожному стовпчику з номером c стоять 0, а інші елементи дорівнюють 1."
   ]
  },
  {
   "cell_type": "code",
   "execution_count": 3,
   "id": "0b3e5312-48bc-48b4-8302-ccad4b931678",
   "metadata": {
    "tags": []
   },
   "outputs": [],
   "source": [
    "import numpy as np"
   ]
  },
  {
   "cell_type": "code",
   "execution_count": 1,
   "id": "814b5fcd-5187-4462-8652-6ca4cc35d2e3",
   "metadata": {
    "tags": []
   },
   "outputs": [
    {
     "name": "stdin",
     "output_type": "stream",
     "text": [
      "Введіть n:  6\n",
      "Введіть m:  7\n",
      "Введіть r:  2\n",
      "Введіть c:  3\n"
     ]
    }
   ],
   "source": [
    "n = int(input(\"Введіть n: \"))\n",
    "m = int(input(\"Введіть m: \"))\n",
    "r = int(input(\"Введіть r: \"))\n",
    "c = int(input(\"Введіть c: \"))"
   ]
  },
  {
   "cell_type": "code",
   "execution_count": 4,
   "id": "429efbcf-a7c3-42b9-91df-b3f684b259dd",
   "metadata": {
    "tags": []
   },
   "outputs": [
    {
     "name": "stdout",
     "output_type": "stream",
     "text": [
      "Масив за допомогою NumPy:\n",
      "[[0 0 0 0 0 0 0]\n",
      " [0 1 1 0 1 1 0]\n",
      " [0 0 0 0 0 0 0]\n",
      " [0 1 1 0 1 1 0]\n",
      " [0 0 0 0 0 0 0]\n",
      " [0 1 1 0 1 1 0]]\n",
      "CPU times: total: 0 ns\n",
      "Wall time: 0 ns\n"
     ]
    }
   ],
   "source": [
    "%%time\n",
    "array_np = np.ones((n, m), dtype=int)\n",
    "array_np[::r, :] = 0\n",
    "array_np[:, ::c] = 0\n",
    "\n",
    "print(\"Масив за допомогою NumPy:\")\n",
    "print(array_np)"
   ]
  },
  {
   "cell_type": "code",
   "execution_count": 5,
   "id": "785c047a-3ef6-4a01-a2ac-ba3e8f59d9b9",
   "metadata": {
    "tags": []
   },
   "outputs": [
    {
     "name": "stdout",
     "output_type": "stream",
     "text": [
      "Масив за допомогою ітеративних конструкцій:\n",
      "[0, 0, 0, 0, 0, 0, 0]\n",
      "[0, 1, 1, 0, 1, 1, 0]\n",
      "[0, 0, 0, 0, 0, 0, 0]\n",
      "[0, 1, 1, 0, 1, 1, 0]\n",
      "[0, 0, 0, 0, 0, 0, 0]\n",
      "[0, 1, 1, 0, 1, 1, 0]\n",
      "CPU times: total: 0 ns\n",
      "Wall time: 0 ns\n"
     ]
    }
   ],
   "source": [
    "%%time\n",
    "array_iter = [[0 if i % r == 0 or j % c == 0 else 1 for j in range(m)] for i in range(n)] \n",
    " \n",
    "print(\"Масив за допомогою ітеративних конструкцій:\")\n",
    "for row in array_iter:\n",
    "    print(row)"
   ]
  }
 ],
 "metadata": {
  "kernelspec": {
   "display_name": "Python 3 (ipykernel)",
   "language": "python",
   "name": "python3"
  },
  "language_info": {
   "codemirror_mode": {
    "name": "ipython",
    "version": 3
   },
   "file_extension": ".py",
   "mimetype": "text/x-python",
   "name": "python",
   "nbconvert_exporter": "python",
   "pygments_lexer": "ipython3",
   "version": "3.11.5"
  }
 },
 "nbformat": 4,
 "nbformat_minor": 5
}
