{
 "cells": [
  {
   "cell_type": "markdown",
   "id": "d47d60e0-668b-4e6f-af54-23ff44fe3d04",
   "metadata": {},
   "source": [
    "## Вправа 20\n",
    "Згенерувати вектор із n випадкових елементів, що\n",
    "лежать в інтервалі (0,1). Замінити максимальний елемент на 0."
   ]
  },
  {
   "cell_type": "code",
   "execution_count": 1,
   "id": "1740dc79-e7a4-45bc-999d-9c40230b9a93",
   "metadata": {
    "tags": []
   },
   "outputs": [],
   "source": [
    "import numpy as np"
   ]
  },
  {
   "cell_type": "code",
   "execution_count": 21,
   "id": "7e7672ee-7a76-4539-babe-663752a11b8b",
   "metadata": {
    "tags": []
   },
   "outputs": [
    {
     "name": "stdin",
     "output_type": "stream",
     "text": [
      "Введіть розмір вектора n:  5\n"
     ]
    },
    {
     "name": "stdout",
     "output_type": "stream",
     "text": [
      "Вектор рандомних чисел:\n",
      "[0.02421826 0.77853915 0.5139244  0.88247322 0.21727046]\n"
     ]
    }
   ],
   "source": [
    "n = int(input(\"Введіть розмір вектора n: \"))\n",
    "vector = np.random.rand(n)\n",
    "print(\"Вектор рандомних чисел:\")\n",
    "print(vector)"
   ]
  },
  {
   "cell_type": "code",
   "execution_count": 25,
   "id": "1d5d21f5-356e-493e-8674-50c4e772436a",
   "metadata": {
    "tags": []
   },
   "outputs": [
    {
     "name": "stdout",
     "output_type": "stream",
     "text": [
      "Вектор з використанням NumPy:\n",
      "[0.02421826 0.77853915 0.5139244  0.         0.21727046]\n",
      "CPU times: total: 0 ns\n",
      "Wall time: 0 ns\n"
     ]
    }
   ],
   "source": [
    "%%time\n",
    "vector_a = vector.copy()\n",
    "max_index = np.argmax(vector_a)\n",
    "vector_a[max_index] = 0\n",
    "\n",
    "print(\"Вектор з використанням NumPy:\")\n",
    "print(vector_a)"
   ]
  },
  {
   "cell_type": "code",
   "execution_count": 26,
   "id": "6630e2e3-2db2-41e1-a5f2-454cc1c11b81",
   "metadata": {
    "tags": []
   },
   "outputs": [
    {
     "name": "stdout",
     "output_type": "stream",
     "text": [
      "Вектор з використанням ітерацій:\n",
      "[0.024218263373082527, 0.7785391467441651, 0.5139243993396796, 0, 0.21727046495624958]\n",
      "CPU times: total: 0 ns\n",
      "Wall time: 0 ns\n"
     ]
    }
   ],
   "source": [
    "%%time\n",
    "vector_a = list(vector.copy())\n",
    "\n",
    "max_value = max(vector_a)\n",
    "max_index = vector_a.index(max_value)\n",
    "vector_a[max_index] = 0\n",
    "\n",
    "print(\"Вектор з використанням ітерацій:\")\n",
    "print(vector_a)"
   ]
  },
  {
   "cell_type": "code",
   "execution_count": null,
   "id": "11d268af-cd96-4fb8-b8ad-bbc1d9150c17",
   "metadata": {},
   "outputs": [],
   "source": []
  }
 ],
 "metadata": {
  "kernelspec": {
   "display_name": "Python 3 (ipykernel)",
   "language": "python",
   "name": "python3"
  },
  "language_info": {
   "codemirror_mode": {
    "name": "ipython",
    "version": 3
   },
   "file_extension": ".py",
   "mimetype": "text/x-python",
   "name": "python",
   "nbconvert_exporter": "python",
   "pygments_lexer": "ipython3",
   "version": "3.11.5"
  }
 },
 "nbformat": 4,
 "nbformat_minor": 5
}
