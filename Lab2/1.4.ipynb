{
 "cells": [
  {
   "cell_type": "markdown",
   "id": "706865ca-b18f-403a-9fd6-feeefbfb2f1f",
   "metadata": {},
   "source": [
    "## Вправа 4 \n",
    "Вводяться числа n і m. Вивести масив розміру n×m, в якому у першому рядку (рядок з нулевим індексом) йдуть числа від 0 до m–1, а всі інші елементи матриці дорівнюють 0."
   ]
  },
  {
   "cell_type": "code",
   "execution_count": 1,
   "id": "b292c6c8-2be1-47ac-bf70-34f594a8a7b5",
   "metadata": {},
   "outputs": [],
   "source": [
    "import numpy as np"
   ]
  },
  {
   "cell_type": "code",
   "execution_count": 2,
   "id": "e389d291-b6bb-4496-a4d0-8b76fe221d15",
   "metadata": {
    "tags": []
   },
   "outputs": [
    {
     "name": "stdin",
     "output_type": "stream",
     "text": [
      " 3\n",
      " 4\n"
     ]
    }
   ],
   "source": [
    "n = int(input())\n",
    "m = int(input())"
   ]
  },
  {
   "cell_type": "code",
   "execution_count": 5,
   "id": "2bd01459-5057-479a-99cb-342c868571da",
   "metadata": {
    "tags": []
   },
   "outputs": [
    {
     "name": "stdout",
     "output_type": "stream",
     "text": [
      "Масив розміром 3 x 4 :\n",
      "[[0 1 2 3]\n",
      " [0 0 0 0]\n",
      " [0 0 0 0]]\n",
      "CPU times: total: 0 ns\n",
      "Wall time: 0 ns\n"
     ]
    }
   ],
   "source": [
    "%%time\n",
    "array = np.zeros((n, m), dtype=int)\n",
    "array[0] = np.arange(m)\n",
    "\n",
    "print(\"Масив розміром\", n, \"x\", m, \":\")\n",
    "print(array)"
   ]
  },
  {
   "cell_type": "code",
   "execution_count": 6,
   "id": "048c56e9-1d3e-459a-bb6b-bea2c148e060",
   "metadata": {
    "tags": []
   },
   "outputs": [
    {
     "name": "stdout",
     "output_type": "stream",
     "text": [
      "Масив розміром 3 x 4 :\n",
      "[0, 1, 2, 3]\n",
      "[0, 0, 0, 0]\n",
      "[0, 0, 0, 0]\n",
      "CPU times: total: 0 ns\n",
      "Wall time: 0 ns\n"
     ]
    }
   ],
   "source": [
    "%%time\n",
    "array = [[0] * m for _ in range(n)]\n",
    "array[0] = list(range(m))\n",
    "\n",
    "print(\"Масив розміром\", n, \"x\", m, \":\")\n",
    "for row in array:\n",
    "    print(row)"
   ]
  },
  {
   "cell_type": "code",
   "execution_count": null,
   "id": "4437fc65-d737-4292-b207-56d8cecd3057",
   "metadata": {},
   "outputs": [],
   "source": []
  }
 ],
 "metadata": {
  "kernelspec": {
   "display_name": "Python 3 (ipykernel)",
   "language": "python",
   "name": "python3"
  },
  "language_info": {
   "codemirror_mode": {
    "name": "ipython",
    "version": 3
   },
   "file_extension": ".py",
   "mimetype": "text/x-python",
   "name": "python",
   "nbconvert_exporter": "python",
   "pygments_lexer": "ipython3",
   "version": "3.11.5"
  }
 },
 "nbformat": 4,
 "nbformat_minor": 5
}
