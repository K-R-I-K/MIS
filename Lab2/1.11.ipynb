{
 "cells": [
  {
   "cell_type": "markdown",
   "id": "59b73413-157b-4250-b3b2-d6a37af20e54",
   "metadata": {},
   "source": [
    "## Вправа 11\n",
    "Створити масив одиниць розміром n×n та додати до\n",
    "нього «рамку», що утворюється з 0."
   ]
  },
  {
   "cell_type": "code",
   "execution_count": 1,
   "id": "742c3cbf-680a-42e0-a854-1a4de8471449",
   "metadata": {
    "tags": []
   },
   "outputs": [],
   "source": [
    "import numpy as np"
   ]
  },
  {
   "cell_type": "code",
   "execution_count": 2,
   "id": "8b7b699f-e01b-4c58-9d1c-638747ca10e3",
   "metadata": {
    "tags": []
   },
   "outputs": [
    {
     "name": "stdin",
     "output_type": "stream",
     "text": [
      "Введіть розмір масиву n:  4\n"
     ]
    }
   ],
   "source": [
    "n = int(input(\"Введіть розмір масиву n: \"))"
   ]
  },
  {
   "cell_type": "code",
   "execution_count": 5,
   "id": "0e595806-d219-4dc2-a488-9eafe8c8d2ca",
   "metadata": {
    "tags": []
   },
   "outputs": [
    {
     "name": "stdout",
     "output_type": "stream",
     "text": [
      "Масив з використанням NumPy:\n",
      "[[0 0 0 0 0 0]\n",
      " [0 1 1 1 1 0]\n",
      " [0 1 1 1 1 0]\n",
      " [0 1 1 1 1 0]\n",
      " [0 1 1 1 1 0]\n",
      " [0 0 0 0 0 0]]\n",
      "CPU times: total: 0 ns\n",
      "Wall time: 0 ns\n"
     ]
    }
   ],
   "source": [
    "%%time\n",
    "matrix_a = np.ones((n+2, n+2), dtype=int)\n",
    "\n",
    "matrix_a[0, :] = 0\n",
    "matrix_a[-1, :] = 0\n",
    "matrix_a[:, 0] = 0\n",
    "matrix_a[:, -1] = 0\n",
    "\n",
    "print(\"Масив з використанням NumPy:\")\n",
    "print(matrix_a)"
   ]
  },
  {
   "cell_type": "code",
   "execution_count": 7,
   "id": "29ae1793-368f-43d7-8979-c794e7705d5b",
   "metadata": {
    "tags": []
   },
   "outputs": [
    {
     "name": "stdout",
     "output_type": "stream",
     "text": [
      "Масив з використанням ітерацій:\n",
      "[0, 0, 0, 0, 0, 0]\n",
      "[0, 1, 1, 1, 1, 0]\n",
      "[0, 1, 1, 1, 1, 0]\n",
      "[0, 1, 1, 1, 1, 0]\n",
      "[0, 1, 1, 1, 1, 0]\n",
      "[0, 0, 0, 0, 0, 0]\n",
      "CPU times: total: 0 ns\n",
      "Wall time: 0 ns\n"
     ]
    }
   ],
   "source": [
    "%%time\n",
    "matrix_b = [[1] * (n+2) for _ in range(n+2)]\n",
    "\n",
    "for i in range(n+2):\n",
    "    matrix_b[i][0] = 0\n",
    "    matrix_b[i][-1] = 0\n",
    "    matrix_b[0][i] = 0\n",
    "    matrix_b[-1][i] = 0\n",
    "\n",
    "print(\"Масив з використанням ітерацій:\")\n",
    "for row in matrix_b:\n",
    "    print(row)"
   ]
  },
  {
   "cell_type": "code",
   "execution_count": null,
   "id": "6a8b5cc1-6163-48b3-8fb1-edf25f5ac117",
   "metadata": {},
   "outputs": [],
   "source": []
  }
 ],
 "metadata": {
  "kernelspec": {
   "display_name": "Python 3 (ipykernel)",
   "language": "python",
   "name": "python3"
  },
  "language_info": {
   "codemirror_mode": {
    "name": "ipython",
    "version": 3
   },
   "file_extension": ".py",
   "mimetype": "text/x-python",
   "name": "python",
   "nbconvert_exporter": "python",
   "pygments_lexer": "ipython3",
   "version": "3.11.5"
  }
 },
 "nbformat": 4,
 "nbformat_minor": 5
}
