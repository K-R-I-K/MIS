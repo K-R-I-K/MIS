{
 "cells": [
  {
   "cell_type": "markdown",
   "id": "cbdbb06b-d9b9-428d-b78e-637896fc7f8b",
   "metadata": {},
   "source": [
    "## Вправа 6\n",
    "З клавіатури вводиться масив. Замінити всі ненульові\n",
    "елементи на –1."
   ]
  },
  {
   "cell_type": "code",
   "execution_count": 1,
   "id": "afa624b9-b926-441e-9ea2-6bb82e094ea7",
   "metadata": {
    "tags": []
   },
   "outputs": [],
   "source": [
    "import numpy as np"
   ]
  },
  {
   "cell_type": "code",
   "execution_count": 2,
   "id": "51950196-a1ec-46e7-99a5-869e1de81342",
   "metadata": {
    "tags": []
   },
   "outputs": [
    {
     "name": "stdin",
     "output_type": "stream",
     "text": [
      "Введіть масив через пробіли:  3 4 0 9 7 0 6 0 4 0 3\n"
     ]
    }
   ],
   "source": [
    "arr = np.array(input(\"Введіть масив через пробіли: \").split(), dtype=int)"
   ]
  },
  {
   "cell_type": "code",
   "execution_count": 8,
   "id": "6c194625-cd8e-4ec1-a9b3-e33bf3a82413",
   "metadata": {
    "tags": []
   },
   "outputs": [
    {
     "name": "stdout",
     "output_type": "stream",
     "text": [
      "Масив з використанням NumPy:\n",
      "[-1, -1, 0, -1, -1, 0, -1, 0, -1, 0, -1]\n",
      "CPU times: total: 0 ns\n",
      "Wall time: 0 ns\n"
     ]
    }
   ],
   "source": [
    "%%time\n",
    "arr[arr != 0] = -1\n",
    "\n",
    "print(\"Масив з використанням NumPy:\")\n",
    "print(arr)"
   ]
  },
  {
   "cell_type": "code",
   "execution_count": 9,
   "id": "652cf332-83f4-48c7-9b9d-fdb36c7942f7",
   "metadata": {
    "tags": []
   },
   "outputs": [
    {
     "name": "stdout",
     "output_type": "stream",
     "text": [
      "Масив з використанням ітерацій:\n",
      "[-1, -1, 0, -1, -1, 0, -1, 0, -1, 0, -1]\n",
      "CPU times: total: 0 ns\n",
      "Wall time: 0 ns\n"
     ]
    }
   ],
   "source": [
    "%%time\n",
    "arr = [-1 if x != 0 else x for x in arr]\n",
    "\n",
    "print(\"Масив з використанням ітерацій:\")\n",
    "print(arr)"
   ]
  },
  {
   "cell_type": "code",
   "execution_count": null,
   "id": "77b0570a-c99d-4c97-b8f9-657bf5560739",
   "metadata": {},
   "outputs": [],
   "source": []
  }
 ],
 "metadata": {
  "kernelspec": {
   "display_name": "Python 3 (ipykernel)",
   "language": "python",
   "name": "python3"
  },
  "language_info": {
   "codemirror_mode": {
    "name": "ipython",
    "version": 3
   },
   "file_extension": ".py",
   "mimetype": "text/x-python",
   "name": "python",
   "nbconvert_exporter": "python",
   "pygments_lexer": "ipython3",
   "version": "3.11.5"
  }
 },
 "nbformat": 4,
 "nbformat_minor": 5
}
