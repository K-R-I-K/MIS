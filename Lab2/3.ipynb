{
 "cells": [
  {
   "cell_type": "markdown",
   "id": "b174deb3-f32e-455b-8a18-6eea46ca7f03",
   "metadata": {},
   "source": [
    "Обчислити значення матричного виразу\n",
    "- а) з використанням універсальних функцій бібліотеки NumPy.\n",
    "- b) за допомогою ітеративних конструкцій (з використанням циклів, спискових включень тощо).\n",
    "- с) для обох випадків підрахувати час виконання скрипту та зробити висновок.\n",
    "\n",
    "Порівняти всі рішення за допомогою функції numpy.allclose().\n",
    "\n",
    "$$\n",
    "    3(A^2 - B^2) - 2AB, де \n",
    "    A = \n",
    "    \\begin{pmatrix}\n",
    "      4 & 2 & 1 \\\\\n",
    "      3 & -2 & 0 \\\\\n",
    "      0 & 1 & 2 \\\\\n",
    "    \\end{pmatrix}, \n",
    "    B = \n",
    "    \\begin{pmatrix}\n",
    "      2 & 0 & 2 \\\\\n",
    "      5 & -7 & -2 \\\\\n",
    "      1 & 0 & -1 \\\\\n",
    "    \\end{pmatrix}\n",
    "$$"
   ]
  },
  {
   "cell_type": "code",
   "execution_count": 28,
   "id": "af97955b-8233-4603-84b0-63a605043605",
   "metadata": {
    "tags": []
   },
   "outputs": [],
   "source": [
    "import numpy as np\n",
    "import time"
   ]
  },
  {
   "cell_type": "code",
   "execution_count": 29,
   "id": "b8d0ae26-1338-4cfc-9629-578af8d48936",
   "metadata": {
    "tags": []
   },
   "outputs": [],
   "source": [
    "A = np.array([[4, 2, 1],\n",
    "              [3, -2, 0],\n",
    "              [0, 1, 2]])\n",
    "\n",
    "B = np.array([[2, 0, 2],\n",
    "              [5, -7, -2],\n",
    "              [1, 0, -1]])"
   ]
  },
  {
   "cell_type": "code",
   "execution_count": 43,
   "id": "df822f25-e45c-499d-b151-737829e7c125",
   "metadata": {
    "tags": []
   },
   "outputs": [
    {
     "name": "stdout",
     "output_type": "stream",
     "text": [
      "Результат за допомогою NumPy:\n",
      "[[  10   43    6]\n",
      " [ 107 -145  -89]\n",
      " [  -8   14   11]]\n",
      "CPU times: total: 0 ns\n",
      "Wall time: 0 ns\n"
     ]
    }
   ],
   "source": [
    "%%time\n",
    "expression_result_np = 3 * (A @ A - B @ B) - 2 * A @ B\n",
    "print(\"Результат за допомогою NumPy:\")\n",
    "print(expression_result_np)"
   ]
  },
  {
   "cell_type": "code",
   "execution_count": 44,
   "id": "b6415e2a-9c3b-4f18-af63-c815e8cee586",
   "metadata": {
    "tags": []
   },
   "outputs": [
    {
     "name": "stdout",
     "output_type": "stream",
     "text": [
      "Результат за допомогою ітеративних конструкцій:\n",
      "[[  10   43    6]\n",
      " [ 107 -145  -89]\n",
      " [  -8   14   11]]\n",
      "CPU times: total: 0 ns\n",
      "Wall time: 999 µs\n"
     ]
    }
   ],
   "source": [
    "%%time\n",
    "rows, cols = A.shape\n",
    "expression_result_iterative = np.zeros((rows, cols), dtype=int)\n",
    "\n",
    "def scalar_product(vector1, vector2):\n",
    "    return sum(v1 * v2 for v1, v2 in zip(vector1, vector2))\n",
    "\n",
    "for i in range(rows):\n",
    "    for j in range(cols):\n",
    "        term1 = 3 * (scalar_product(A[i, :], A[:, j]) - scalar_product(B[i, :], B[:, j]))\n",
    "        term2 = 2 * scalar_product(A[i, :], B[:, j])\n",
    "        expression_result_iterative[i, j] = term1 - term2\n",
    "        \n",
    "print(\"Результат за допомогою ітеративних конструкцій:\")\n",
    "print(expression_result_iterative)"
   ]
  },
  {
   "cell_type": "code",
   "execution_count": 45,
   "id": "d2168b8b-d4d8-4023-9b4f-bb7ba30a94ad",
   "metadata": {
    "tags": []
   },
   "outputs": [
    {
     "name": "stdout",
     "output_type": "stream",
     "text": [
      "Порівняння результатів: True\n"
     ]
    }
   ],
   "source": [
    "print(\"Порівняння результатів:\", np.allclose(expression_result_np, expression_result_iterative))"
   ]
  },
  {
   "cell_type": "code",
   "execution_count": null,
   "id": "8d34e45c-c8d7-4bf4-9b17-c984f696ac14",
   "metadata": {},
   "outputs": [],
   "source": []
  }
 ],
 "metadata": {
  "kernelspec": {
   "display_name": "Python 3 (ipykernel)",
   "language": "python",
   "name": "python3"
  },
  "language_info": {
   "codemirror_mode": {
    "name": "ipython",
    "version": 3
   },
   "file_extension": ".py",
   "mimetype": "text/x-python",
   "name": "python",
   "nbconvert_exporter": "python",
   "pygments_lexer": "ipython3",
   "version": "3.11.5"
  }
 },
 "nbformat": 4,
 "nbformat_minor": 5
}
