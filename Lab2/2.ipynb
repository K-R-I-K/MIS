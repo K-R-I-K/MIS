{
 "cells": [
  {
   "cell_type": "markdown",
   "id": "0cf8b71b-e64e-4724-a7d8-2295f40a0da5",
   "metadata": {},
   "source": [
    "Розв’язати систему алгебраїчних рівнянь за допомогою формул Крамера і виконати перевірку за допомогою:\n",
    "- a) матричного множення;\n",
    "- b) оберненої матриці;\n",
    "- c) функції numpy.linalg.solve().\n",
    "\n",
    "Порівняти всі рішення за допомогою функції numpy.allclose().\n",
    "\n",
    "$$\n",
    "  \\left\\{\n",
    "  \\begin{aligned}\n",
    "     & 4x_1 + x_2 - x_4 &= -9 \\\\\n",
    "     & x_1 - 3x_2 + 3x_3 &= 7 \\\\\n",
    "     & 3x_2 - 2x_3 + 4x_4 &= 12 \\\\\n",
    "     & x_1 + 2x_3 + 4x_4 &= 12\n",
    "  \\end{aligned}\n",
    "  \\right.\n",
    "$$"
   ]
  },
  {
   "cell_type": "code",
   "execution_count": 1,
   "id": "7e2e3e00-e005-4755-9cda-074ebdb3910e",
   "metadata": {
    "tags": []
   },
   "outputs": [],
   "source": [
    "import numpy as np"
   ]
  },
  {
   "cell_type": "code",
   "execution_count": 5,
   "id": "83cbada8-71fe-4bb8-9cdf-c45f791066ba",
   "metadata": {
    "tags": []
   },
   "outputs": [
    {
     "name": "stdout",
     "output_type": "stream",
     "text": [
      "Рішення за формулами Крамера: x1 = 1.4909090909090907, x2 = -8.836363636363641, x3 = -7.000000000000008, x4 = 6.1272727272727305\n",
      "Перевірка матричного множення: True\n",
      "Перевірка оберненої матриці: True\n",
      "Перевірка рішення за допомогою numpy.linalg.solve(): True\n"
     ]
    }
   ],
   "source": [
    "A = np.array([[4, 1, 0, -1],\n",
    "              [1, -3, 3, 0],\n",
    "              [0, 3, -2, 4],\n",
    "              [1, 0, 2, 4]])\n",
    "\n",
    "B = np.array([-9, 7, 12, 12])\n",
    "\n",
    "det_A = np.linalg.det(A)\n",
    "\n",
    "det_X1 = np.linalg.det(np.column_stack((B, A[:, 1], A[:, 2], A[:, 3])))\n",
    "det_X2 = np.linalg.det(np.column_stack((A[:, 0], B, A[:, 2], A[:, 3])))\n",
    "det_X3 = np.linalg.det(np.column_stack((A[:, 0], A[:, 1], B, A[:, 3])))\n",
    "det_X4 = np.linalg.det(np.column_stack((A[:, 0], A[:, 1], A[:, 2], B)))\n",
    "\n",
    "x1 = det_X1 / det_A\n",
    "x2 = det_X2 / det_A\n",
    "x3 = det_X3 / det_A\n",
    "x4 = det_X4 / det_A\n",
    "\n",
    "print(f\"Рішення за формулами Крамера: x1 = {x1}, x2 = {x2}, x3 = {x3}, x4 = {x4}\")\n",
    "\n",
    "check_matrix_multiplication = np.dot(A, np.array([x1, x2, x3, x4]))\n",
    "print(\"Перевірка матричного множення:\", np.allclose(check_matrix_multiplication, B))\n",
    "\n",
    "A_inv = np.linalg.inv(A)\n",
    "check_inverse_matrix = np.dot(A_inv, B)\n",
    "print(\"Перевірка оберненої матриці:\", np.allclose(check_inverse_matrix, [x1, x2, x3, x4]))\n",
    "\n",
    "solution_np = np.linalg.solve(A, B)\n",
    "print(\"Перевірка рішення за допомогою numpy.linalg.solve():\", np.allclose(solution_np, [x1, x2, x3, x4]))\n"
   ]
  },
  {
   "cell_type": "code",
   "execution_count": null,
   "id": "59de086a-ab37-4de7-8ef6-29c6d8202bb9",
   "metadata": {},
   "outputs": [],
   "source": []
  }
 ],
 "metadata": {
  "kernelspec": {
   "display_name": "Python 3 (ipykernel)",
   "language": "python",
   "name": "python3"
  },
  "language_info": {
   "codemirror_mode": {
    "name": "ipython",
    "version": 3
   },
   "file_extension": ".py",
   "mimetype": "text/x-python",
   "name": "python",
   "nbconvert_exporter": "python",
   "pygments_lexer": "ipython3",
   "version": "3.11.5"
  }
 },
 "nbformat": 4,
 "nbformat_minor": 5
}
