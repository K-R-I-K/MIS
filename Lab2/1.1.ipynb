{
 "cells": [
  {
   "cell_type": "markdown",
   "id": "960c7a3e-068c-497a-a9ed-75ae75b92e2f",
   "metadata": {},
   "source": [
    "## Вправа 1 \n",
    "Вводиться число n. Вивести масив розміру n×n, в\n",
    "якому по діагоналі йдуть числа від 1 до n, а інші числа дорівнюють 0."
   ]
  },
  {
   "cell_type": "code",
   "execution_count": 1,
   "id": "992bdbad-0773-4403-83ea-5eaf20fbd055",
   "metadata": {
    "tags": []
   },
   "outputs": [],
   "source": [
    "import numpy as np"
   ]
  },
  {
   "cell_type": "code",
   "execution_count": 26,
   "id": "f7735b0a-74fc-466d-a96d-a20468548b5c",
   "metadata": {
    "tags": []
   },
   "outputs": [
    {
     "name": "stdin",
     "output_type": "stream",
     "text": [
      "Введіть число n:  100\n"
     ]
    }
   ],
   "source": [
    "n = int(input(\"Введіть число n: \"))"
   ]
  },
  {
   "cell_type": "code",
   "execution_count": 27,
   "id": "444e395d-ab41-4a76-85e1-90a1e1b1b394",
   "metadata": {
    "tags": []
   },
   "outputs": [
    {
     "name": "stdout",
     "output_type": "stream",
     "text": [
      "CPU times: total: 0 ns\n",
      "Wall time: 0 ns\n"
     ]
    }
   ],
   "source": [
    "%%time\n",
    "matrix_a = np.zeros((n, n), dtype=int)\n",
    "np.fill_diagonal(matrix_a, np.arange(1, n+1))"
   ]
  },
  {
   "cell_type": "code",
   "execution_count": 28,
   "id": "47fdbeeb-72ba-4498-8c5e-67d656c6719a",
   "metadata": {
    "tags": []
   },
   "outputs": [
    {
     "name": "stdout",
     "output_type": "stream",
     "text": [
      "CPU times: total: 0 ns\n",
      "Wall time: 1 ms\n"
     ]
    }
   ],
   "source": [
    "%%time\n",
    "matrix_b = [[i + 1 if i == j else 0 for j in range(n)] for i in range(n)]"
   ]
  },
  {
   "cell_type": "code",
   "execution_count": 29,
   "id": "ca216a55-fb71-4c04-85af-ef54a695b917",
   "metadata": {
    "tags": []
   },
   "outputs": [
    {
     "name": "stdin",
     "output_type": "stream",
     "text": [
      "Введіть число n:  5\n"
     ]
    }
   ],
   "source": [
    "n = int(input(\"Введіть число n: \"))"
   ]
  },
  {
   "cell_type": "code",
   "execution_count": 30,
   "id": "664941e7-0973-4f2e-bbe9-7ca5dac059ca",
   "metadata": {
    "tags": []
   },
   "outputs": [
    {
     "name": "stdout",
     "output_type": "stream",
     "text": [
      "Масив з використанням NumPy:\n",
      "[[1 0 0 0 0]\n",
      " [0 2 0 0 0]\n",
      " [0 0 3 0 0]\n",
      " [0 0 0 4 0]\n",
      " [0 0 0 0 5]]\n",
      "CPU times: total: 0 ns\n",
      "Wall time: 0 ns\n"
     ]
    }
   ],
   "source": [
    "%%time\n",
    "matrix_a = np.zeros((n, n), dtype=int)\n",
    "np.fill_diagonal(matrix_a, np.arange(1, n+1))\n",
    "\n",
    "print(\"Масив з використанням NumPy:\")\n",
    "print(matrix_a)"
   ]
  },
  {
   "cell_type": "code",
   "execution_count": 31,
   "id": "50503cb7-e2cd-4b5f-98aa-649eeb046edd",
   "metadata": {
    "tags": []
   },
   "outputs": [
    {
     "name": "stdout",
     "output_type": "stream",
     "text": [
      "Масив з використанням ітерацій:\n",
      "[1, 0, 0, 0, 0]\n",
      "[0, 2, 0, 0, 0]\n",
      "[0, 0, 3, 0, 0]\n",
      "[0, 0, 0, 4, 0]\n",
      "[0, 0, 0, 0, 5]\n",
      "CPU times: total: 0 ns\n",
      "Wall time: 0 ns\n"
     ]
    }
   ],
   "source": [
    "%%time\n",
    "matrix_b = [[i + 1 if i == j else 0 for j in range(n)] for i in range(n)]\n",
    "\n",
    "print(\"Масив з використанням ітерацій:\")\n",
    "for row in matrix_b:\n",
    "    print(row)"
   ]
  },
  {
   "cell_type": "code",
   "execution_count": null,
   "id": "2b68c66c-f302-4375-a431-8c4be8457e37",
   "metadata": {},
   "outputs": [],
   "source": []
  }
 ],
 "metadata": {
  "kernelspec": {
   "display_name": "Python 3 (ipykernel)",
   "language": "python",
   "name": "python3"
  },
  "language_info": {
   "codemirror_mode": {
    "name": "ipython",
    "version": 3
   },
   "file_extension": ".py",
   "mimetype": "text/x-python",
   "name": "python",
   "nbconvert_exporter": "python",
   "pygments_lexer": "ipython3",
   "version": "3.11.5"
  }
 },
 "nbformat": 4,
 "nbformat_minor": 5
}
