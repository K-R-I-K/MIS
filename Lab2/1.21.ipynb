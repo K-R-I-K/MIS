{
 "cells": [
  {
   "cell_type": "markdown",
   "id": "eba39e58-1ca2-461e-9292-ffc6f668b7a6",
   "metadata": {},
   "source": [
    "## Вправа 21\n",
    "Ввести числа n і m. Згенерувати матрицю n×n\n",
    "випадкових цілих елементів з діапазону [0, m]. Замінити всі\n",
    "максимальні елементи цієї матриці на протилежні за знаком."
   ]
  },
  {
   "cell_type": "code",
   "execution_count": 1,
   "id": "cd01dd6d-c4a5-431e-b946-58a846235b30",
   "metadata": {
    "tags": []
   },
   "outputs": [],
   "source": [
    "import numpy as np"
   ]
  },
  {
   "cell_type": "code",
   "execution_count": 15,
   "id": "4194f1d1-0111-49af-b883-8ff888e5e91f",
   "metadata": {
    "tags": []
   },
   "outputs": [
    {
     "name": "stdin",
     "output_type": "stream",
     "text": [
      " 4\n",
      " 10\n"
     ]
    },
    {
     "name": "stdout",
     "output_type": "stream",
     "text": [
      "Матриця:\n",
      "[[1 7 5 7]\n",
      " [1 9 7 7]\n",
      " [9 6 4 9]\n",
      " [7 7 3 8]]\n"
     ]
    }
   ],
   "source": [
    "n = int(input())\n",
    "m = int(input())\n",
    "matrix = np.random.randint(0, m+1, size=(n, n))\n",
    "print(\"Матриця:\")\n",
    "print(matrix)"
   ]
  },
  {
   "cell_type": "code",
   "execution_count": 18,
   "id": "0ac4b3e5-136f-40de-b970-64458de0e4fe",
   "metadata": {
    "tags": []
   },
   "outputs": [
    {
     "name": "stdout",
     "output_type": "stream",
     "text": [
      "Матриця з використанням NumPy:\n",
      "[[ 1  7  5  7]\n",
      " [ 1 -9  7  7]\n",
      " [-9  6  4 -9]\n",
      " [ 7  7  3  8]]\n",
      "CPU times: total: 0 ns\n",
      "Wall time: 990 µs\n"
     ]
    }
   ],
   "source": [
    "%%time\n",
    "\n",
    "matrix_a = matrix.copy()\n",
    "max_value = np.max(matrix_a)\n",
    "matrix_a[matrix_a == max_value] *= -1\n",
    "\n",
    "print(\"Матриця з використанням NumPy:\")\n",
    "print(matrix_a)"
   ]
  },
  {
   "cell_type": "code",
   "execution_count": 17,
   "id": "23309db5-5951-4132-8f0e-06a2287c7b01",
   "metadata": {
    "tags": []
   },
   "outputs": [
    {
     "name": "stdout",
     "output_type": "stream",
     "text": [
      "Матриця з використанням ітерацій:\n",
      "[1 7 5 7]\n",
      "[ 1 -9  7  7]\n",
      "[-9  6  4 -9]\n",
      "[7 7 3 8]\n",
      "CPU times: total: 0 ns\n",
      "Wall time: 1 ms\n"
     ]
    }
   ],
   "source": [
    "%%time\n",
    "\n",
    "matrix_a = matrix.copy()\n",
    "max_value = max(max(row) for row in matrix_a)\n",
    "\n",
    "for i in range(n):\n",
    "    for j in range(n):\n",
    "        if matrix_a[i][j] == max_value:\n",
    "            matrix_a[i][j] *= -1\n",
    "\n",
    "print(\"Матриця з використанням ітерацій:\")\n",
    "for row in matrix_a:\n",
    "    print(row)"
   ]
  },
  {
   "cell_type": "code",
   "execution_count": null,
   "id": "25ad1636-d37d-4451-90f4-fb5ee6148f98",
   "metadata": {},
   "outputs": [],
   "source": []
  }
 ],
 "metadata": {
  "kernelspec": {
   "display_name": "Python 3 (ipykernel)",
   "language": "python",
   "name": "python3"
  },
  "language_info": {
   "codemirror_mode": {
    "name": "ipython",
    "version": 3
   },
   "file_extension": ".py",
   "mimetype": "text/x-python",
   "name": "python",
   "nbconvert_exporter": "python",
   "pygments_lexer": "ipython3",
   "version": "3.11.5"
  }
 },
 "nbformat": 4,
 "nbformat_minor": 5
}
