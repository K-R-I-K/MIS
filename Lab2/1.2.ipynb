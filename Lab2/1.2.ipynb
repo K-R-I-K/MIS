{
 "cells": [
  {
   "cell_type": "markdown",
   "id": "a09740fa-6963-442e-855a-ddcc5534d754",
   "metadata": {},
   "source": [
    "## Вправа 2\n",
    "Вводиться число n. Розставити 1 та 0 у шаховому порядку, починаючи з 1 в матриці розміром n×n, використовуючи слайсінг."
   ]
  },
  {
   "cell_type": "code",
   "execution_count": 13,
   "id": "77a17b3c-f405-4a26-9abc-0b1953fb723e",
   "metadata": {
    "tags": []
   },
   "outputs": [],
   "source": [
    "import numpy as np"
   ]
  },
  {
   "cell_type": "code",
   "execution_count": 14,
   "id": "4677d307-7a13-4e78-aaed-c4a95b73f3b0",
   "metadata": {
    "tags": []
   },
   "outputs": [
    {
     "name": "stdin",
     "output_type": "stream",
     "text": [
      "Введіть розмір матриці (n):  5\n"
     ]
    }
   ],
   "source": [
    "n = int(input(\"Введіть розмір матриці (n): \"))"
   ]
  },
  {
   "cell_type": "code",
   "execution_count": 21,
   "id": "7842befd-204f-4d88-9f19-3517bc14042d",
   "metadata": {
    "tags": []
   },
   "outputs": [
    {
     "name": "stdout",
     "output_type": "stream",
     "text": [
      "Шахова дошка розміром 5 x 5 з 1 та 0:\n",
      "[[0 1 0 1 0]\n",
      " [1 0 1 0 1]\n",
      " [0 1 0 1 0]\n",
      " [1 0 1 0 1]\n",
      " [0 1 0 1 0]]\n",
      "CPU times: total: 0 ns\n",
      "Wall time: 991 µs\n"
     ]
    }
   ],
   "source": [
    "%%time\n",
    "board = np.zeros((n, n), dtype=int)\n",
    "\n",
    "board[1::2, ::2] = 1\n",
    "board[::2, 1::2] = 1\n",
    "\n",
    "print(\"Шахова дошка розміром\", n, \"x\", n, \"з 1 та 0:\")\n",
    "print(board)"
   ]
  },
  {
   "cell_type": "code",
   "execution_count": 19,
   "id": "d6af2174-b2ef-4d2f-bdde-1a8a2a32b159",
   "metadata": {
    "tags": []
   },
   "outputs": [
    {
     "name": "stdout",
     "output_type": "stream",
     "text": [
      "Шахова дошка розміром 5 x 5 з 0 та 1:\n",
      "[0 1 0 1 0]\n",
      "[1 0 1 0 1]\n",
      "[0 1 0 1 0]\n",
      "[1 0 1 0 1]\n",
      "[0 1 0 1 0]\n",
      "CPU times: total: 0 ns\n",
      "Wall time: 999 µs\n"
     ]
    }
   ],
   "source": [
    "%%time\n",
    "def print_board(board):\n",
    "    for row in board:\n",
    "        print(\"[\", end=\"\")\n",
    "        for i in range(len(row)):\n",
    "            if i == len(row) - 1:\n",
    "                print(row[i], end=\"\")\n",
    "            else:\n",
    "                print(row[i], end=\" \")\n",
    "        print(\"]\")\n",
    "\n",
    "\n",
    "board = []\n",
    "\n",
    "for i in range(n):\n",
    "    row = []\n",
    "    for j in range(n):\n",
    "        if (i + j) % 2 == 0:\n",
    "            row.append(0)\n",
    "        else:\n",
    "            row.append(1)\n",
    "    board.append(row)\n",
    "\n",
    "print(\"Шахова дошка розміром\", n, \"x\", n, \"з 0 та 1:\")\n",
    "print_board(board)"
   ]
  },
  {
   "cell_type": "code",
   "execution_count": null,
   "id": "42d9baf0-d6a8-4e38-813c-2c259fb367e9",
   "metadata": {},
   "outputs": [],
   "source": []
  }
 ],
 "metadata": {
  "kernelspec": {
   "display_name": "Python 3 (ipykernel)",
   "language": "python",
   "name": "python3"
  },
  "language_info": {
   "codemirror_mode": {
    "name": "ipython",
    "version": 3
   },
   "file_extension": ".py",
   "mimetype": "text/x-python",
   "name": "python",
   "nbconvert_exporter": "python",
   "pygments_lexer": "ipython3",
   "version": "3.11.5"
  }
 },
 "nbformat": 4,
 "nbformat_minor": 5
}
