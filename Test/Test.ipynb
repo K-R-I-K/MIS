{
 "cells": [
  {
   "cell_type": "code",
   "execution_count": 1,
   "id": "26b17453-e1f3-4730-a81d-e55e74b59222",
   "metadata": {
    "tags": []
   },
   "outputs": [],
   "source": [
    "import numpy as np\n",
    "import pandas as pd\n",
    "import matplotlib as mpl\n",
    "import matplotlib.pyplot as plt"
   ]
  },
  {
   "cell_type": "code",
   "execution_count": 2,
   "id": "d3f1d6ef-5fc6-4fc2-962b-8fb766332f75",
   "metadata": {
    "tags": []
   },
   "outputs": [],
   "source": [
    "csv_file_path = 'Expanded_data_with_more_features.csv'\n",
    "df = pd.read_csv(csv_file_path)  "
   ]
  },
  {
   "cell_type": "markdown",
   "id": "2e046bc6-ab5e-42a3-b5ab-42d215d5e9ce",
   "metadata": {},
   "source": [
    "1. Скільки студентів і студенток у наборі даних?"
   ]
  },
  {
   "cell_type": "code",
   "execution_count": 3,
   "id": "873d9eb1-d2e7-4684-b81f-b44b85885693",
   "metadata": {
    "tags": []
   },
   "outputs": [
    {
     "name": "stdout",
     "output_type": "stream",
     "text": [
      "Кількість чоловіків у наборі даних: 15217\n",
      "Кількість жінок у наборі даних: 15424\n"
     ]
    }
   ],
   "source": [
    "count_male = df[df['Gender'] == 'male'].shape[0]\n",
    "count_female = df[df['Gender'] == 'female'].shape[0]\n",
    "\n",
    "print(\"Кількість чоловіків у наборі даних:\", count_male)\n",
    "print(\"Кількість жінок у наборі даних:\", count_female)"
   ]
  },
  {
   "cell_type": "markdown",
   "id": "b6f2ad74-8ccc-4014-86fe-79f46e8d35fd",
   "metadata": {},
   "source": [
    "2. Який відсоток студентів чоловічої статі в наборі даних?"
   ]
  },
  {
   "cell_type": "code",
   "execution_count": 23,
   "id": "5b156321-0883-4fd5-aa31-a699f62ebede",
   "metadata": {
    "tags": []
   },
   "outputs": [
    {
     "name": "stdout",
     "output_type": "stream",
     "text": [
      "Відсоток студентів у наборі даних: 50.79769266746349%\n"
     ]
    }
   ],
   "source": [
    "male_percentage = (df[df['Gender'] == 'male'].shape[0] / df.shape[0]) * 100\n",
    "\n",
    "print(f\"Відсоток студентів у наборі даних: {female_percentage}%\")"
   ]
  },
  {
   "cell_type": "markdown",
   "id": "300f0e46-d422-4ae1-bd88-13383dc13395",
   "metadata": {},
   "source": [
    "3. Який відсоток студенток у наборі даних?"
   ]
  },
  {
   "cell_type": "code",
   "execution_count": 22,
   "id": "a96f4eb5-8cf9-4473-8926-2ae5fe4a10ff",
   "metadata": {
    "tags": []
   },
   "outputs": [
    {
     "name": "stdout",
     "output_type": "stream",
     "text": [
      "Відсоток студенток у наборі даних: 50.79769266746349%\n"
     ]
    }
   ],
   "source": [
    "female_percentage = (df[df['Gender'] == 'female'].shape[0] / df.shape[0]) * 100\n",
    "\n",
    "print(f\"Відсоток студенток у наборі даних: {female_percentage}%\")"
   ]
  },
  {
   "cell_type": "markdown",
   "id": "5f527135-05ea-4aa9-bf07-a24ac1de24d1",
   "metadata": {},
   "source": [
    "4. Яка етнічна група має найвищий середній бал з математики?"
   ]
  },
  {
   "cell_type": "code",
   "execution_count": 6,
   "id": "b7a22aea-0cc1-43a4-ae36-d1e683cc1acb",
   "metadata": {
    "tags": []
   },
   "outputs": [
    {
     "name": "stdout",
     "output_type": "stream",
     "text": [
      "Етнічна група з найвищим середнім балом з математики: group E\n",
      "Найвищий середній бал з математики: 75.29893590695373\n"
     ]
    }
   ],
   "source": [
    "average_math_score_by_ethnicity = df.groupby('EthnicGroup')['MathScore'].mean()\n",
    "\n",
    "ethnicity_with_highest_average_math_score = average_math_score_by_ethnicity.idxmax()\n",
    "highest_average_math_score = average_math_score_by_ethnicity.max()\n",
    "\n",
    "print(\"Етнічна група з найвищим середнім балом з математики:\", ethnicity_with_highest_average_math_score)\n",
    "print(\"Найвищий середній бал з математики:\", highest_average_math_score)"
   ]
  },
  {
   "cell_type": "markdown",
   "id": "c21af1c8-5c71-42a3-b6bb-8592af1328e1",
   "metadata": {},
   "source": [
    "5. Яка етнічна група має найвищий середній бал читання?"
   ]
  },
  {
   "cell_type": "code",
   "execution_count": 7,
   "id": "311d4777-2b27-41eb-869b-71dfcc337bd6",
   "metadata": {
    "tags": []
   },
   "outputs": [
    {
     "name": "stdout",
     "output_type": "stream",
     "text": [
      "Етнічна група з найвищим середнім балом з читання: group E\n",
      "Найвищий середній бал з читання: 74.25142291512002\n"
     ]
    }
   ],
   "source": [
    "average_math_score_by_ethnicity = df.groupby('EthnicGroup')['ReadingScore'].mean()\n",
    "\n",
    "ethnicity_with_highest_average_math_score = average_math_score_by_ethnicity.idxmax()\n",
    "highest_average_math_score = average_math_score_by_ethnicity.max()\n",
    "\n",
    "print(\"Етнічна група з найвищим середнім балом з читання:\", ethnicity_with_highest_average_math_score)\n",
    "print(\"Найвищий середній бал з читання:\", highest_average_math_score)"
   ]
  },
  {
   "cell_type": "markdown",
   "id": "c3d6ff7f-7d7f-4c77-8210-9a12b1cf721e",
   "metadata": {},
   "source": [
    "6. Яка етнічна група має найвищий середній бал з письма?"
   ]
  },
  {
   "cell_type": "code",
   "execution_count": 8,
   "id": "5dca9298-cbc9-4e7c-a353-638ed4930f2c",
   "metadata": {
    "tags": []
   },
   "outputs": [
    {
     "name": "stdout",
     "output_type": "stream",
     "text": [
      "Етнічна група з найвищим середнім балом з письма: group E\n",
      "Найвищий середній бал з письма: 72.67706013363029\n"
     ]
    }
   ],
   "source": [
    "average_writing_score_by_ethnicity = df.groupby('EthnicGroup')['WritingScore'].mean()\n",
    "\n",
    "ethnicity_with_highest_average_writing_score = average_writing_score_by_ethnicity.idxmax()\n",
    "highest_average_writing_score = average_writing_score_by_ethnicity.max()\n",
    "\n",
    "print(\"Етнічна група з найвищим середнім балом з письма:\", ethnicity_with_highest_average_writing_score)\n",
    "print(\"Найвищий середній бал з письма:\", highest_average_writing_score)"
   ]
  },
  {
   "cell_type": "markdown",
   "id": "994279e6-1ded-4646-8a7c-a7a8373a7c14",
   "metadata": {},
   "source": [
    " 7. Який середній бал з математики для студентів, які закінчили курс підготовки до тесту?"
   ]
  },
  {
   "cell_type": "code",
   "execution_count": 9,
   "id": "b11cfac7-a308-4690-a07e-51ebc43bf8ec",
   "metadata": {
    "tags": []
   },
   "outputs": [
    {
     "name": "stdout",
     "output_type": "stream",
     "text": [
      "Середній бал з математики для студентів, які закінчили курс підготовки до тесту: 69.5466599698644\n"
     ]
    }
   ],
   "source": [
    "average_math_score_test_prep_completed = df[df['TestPrep'] == 'completed']['MathScore'].mean()\n",
    "\n",
    "print(\"Середній бал з математики для студентів, які закінчили курс підготовки до тесту:\", average_math_score_test_prep_completed)"
   ]
  },
  {
   "cell_type": "markdown",
   "id": "73121a8c-3383-4ccd-9f56-799cfe24252d",
   "metadata": {},
   "source": [
    "8. Який середній бал з читання для студентів, які пройшли курс підготовки до тесту?"
   ]
  },
  {
   "cell_type": "code",
   "execution_count": 10,
   "id": "fc837a51-c159-427f-8780-5cf796dd7672",
   "metadata": {
    "tags": []
   },
   "outputs": [
    {
     "name": "stdout",
     "output_type": "stream",
     "text": [
      "Середній бал з читання для студентів, які закінчили курс підготовки до тесту: 73.73299849321948\n"
     ]
    }
   ],
   "source": [
    "average_reading_score_test_prep_completed = df[df['TestPrep'] == 'completed']['ReadingScore'].mean()\n",
    "\n",
    "print(\"Середній бал з читання для студентів, які закінчили курс підготовки до тесту:\", average_reading_score_test_prep_completed)"
   ]
  },
  {
   "cell_type": "markdown",
   "id": "8a0382fd-4c68-4170-8bb2-fa86ee4fcff0",
   "metadata": {},
   "source": [
    "9. Який середній бал для студентів, які закінчили курс підготовки до тесту?"
   ]
  },
  {
   "cell_type": "code",
   "execution_count": 11,
   "id": "a06c1784-4dd2-4b19-b41c-5f1a136d3159",
   "metadata": {
    "tags": []
   },
   "outputs": [
    {
     "name": "stdout",
     "output_type": "stream",
     "text": [
      "Середній бал для студентів, які закінчили курс підготовки до тесту: 72.66097438473129\n"
     ]
    }
   ],
   "source": [
    "average_math_score_test_prep_completed = df[df['TestPrep'] == 'completed']['MathScore'].mean()\n",
    "average_reading_score_test_prep_completed = df[df['TestPrep'] == 'completed']['ReadingScore'].mean()\n",
    "average_writing_score_test_prep_completed = df[df['TestPrep'] == 'completed']['WritingScore'].mean()\n",
    "average_score_test_prep_completed = (average_math_score_test_prep_completed + average_reading_score_test_prep_completed + average_writing_score_test_prep_completed)/3\n",
    "\n",
    "print(\"Середній бал для студентів, які закінчили курс підготовки до тесту:\", average_score_test_prep_completed)"
   ]
  },
  {
   "cell_type": "markdown",
   "id": "437f73eb-07a9-4bee-a93a-b5d06595402f",
   "metadata": {},
   "source": [
    "10. Скільки студентів мають одружених батьків?"
   ]
  },
  {
   "cell_type": "code",
   "execution_count": 12,
   "id": "a42eb3d0-f3f4-4aab-bb55-9c842fc5c1a3",
   "metadata": {
    "tags": []
   },
   "outputs": [
    {
     "name": "stdout",
     "output_type": "stream",
     "text": [
      "Кількість студентів, що мають одружених батьків: 16844\n"
     ]
    }
   ],
   "source": [
    "married_parents = len(df[df['ParentMaritalStatus'] == 'married'])\n",
    "print(f\"Кількість студентів, що мають одружених батьків: {married_parents}\")"
   ]
  },
  {
   "cell_type": "markdown",
   "id": "c2c83ca4-4506-4004-b87b-9b6a4540a240",
   "metadata": {},
   "source": [
    "11. Скільки студентів мають батьків-одинаків?"
   ]
  },
  {
   "cell_type": "code",
   "execution_count": 13,
   "id": "34b27609-acf6-40ed-a309-50fa249254c1",
   "metadata": {
    "tags": []
   },
   "outputs": [
    {
     "name": "stdout",
     "output_type": "stream",
     "text": [
      "Кількість студентів, що мають батьків-одинаків: 7097\n"
     ]
    }
   ],
   "source": [
    "single_parents = len(df[df['ParentMaritalStatus'] == 'single'])\n",
    "print(f\"Кількість студентів, що мають батьків-одинаків: {single_parents}\")"
   ]
  },
  {
   "cell_type": "markdown",
   "id": "bb7d6833-02a0-4721-bad7-864f3b9f6152",
   "metadata": {
    "tags": []
   },
   "source": [
    "12. Чи студенти, які регулярно займаються спортом, мають вищі середні результати з математики, ніж ті, хто ніколи не       займається спортом?"
   ]
  },
  {
   "cell_type": "code",
   "execution_count": 14,
   "id": "a03dba86-a1eb-4f55-9064-bada30b732cf",
   "metadata": {
    "tags": []
   },
   "outputs": [
    {
     "name": "stdout",
     "output_type": "stream",
     "text": [
      "Чи студенти, які регулярно займаються спортом, мають вищі середні результати з математики, ніж ті, хто ніколи не займається спортом?: True\n"
     ]
    }
   ],
   "source": [
    "sport_regulary = df[df['PracticeSport'] == 'regularly']\n",
    "sport_never = df[df['PracticeSport'] == 'never']\n",
    "\n",
    "average_math_score_sport_regulary = sport_regulary['MathScore'].mean()\n",
    "average_math_score_sport_never = sport_never['MathScore'].mean()\n",
    "\n",
    "print(f\"Чи студенти, які регулярно займаються спортом, мають вищі середні результати з математики, ніж ті, хто ніколи не займається спортом?: {average_math_score_sport_regulary > average_math_score_sport_never}\")"
   ]
  },
  {
   "cell_type": "markdown",
   "id": "4b25fead-6457-465d-941f-65bedfee351b",
   "metadata": {},
   "source": [
    "13. Чи студенти, які регулярно займаються спортом, мають вищі середні результати читання, ніж ті, хто ніколи не займається спортом?"
   ]
  },
  {
   "cell_type": "code",
   "execution_count": 15,
   "id": "208975fc-07ad-4f69-a58a-d5666cd953d5",
   "metadata": {
    "tags": []
   },
   "outputs": [
    {
     "name": "stdout",
     "output_type": "stream",
     "text": [
      "Чи студенти, які регулярно займаються спортом, мають вищі середні результати з читання, ніж ті, хто ніколи не займається спортом?: True\n"
     ]
    }
   ],
   "source": [
    "sport_regulary = df[df['PracticeSport'] == 'regularly']\n",
    "sport_never = df[df['PracticeSport'] == 'never']\n",
    "\n",
    "average_read_score_sport_regulary = sport_regulary['ReadingScore'].mean()\n",
    "average_read_score_sport_never = sport_never['ReadingScore'].mean()\n",
    "\n",
    "print(f\"Чи студенти, які регулярно займаються спортом, мають вищі середні результати з читання, ніж ті, хто ніколи не займається спортом?: {average_read_score_sport_regulary > average_read_score_sport_never}\")"
   ]
  },
  {
   "cell_type": "markdown",
   "id": "233c56eb-3e04-4bf9-bfbe-bd5649c5bc9c",
   "metadata": {},
   "source": [
    "14. Скільки учнів користується шкільним автобусом, щоб дістатися до школи?"
   ]
  },
  {
   "cell_type": "code",
   "execution_count": 16,
   "id": "591c2aa6-062b-4e53-87c3-396a60a56ec8",
   "metadata": {
    "tags": []
   },
   "outputs": [
    {
     "name": "stdout",
     "output_type": "stream",
     "text": [
      "Кількість учнів, що користується шкільним автобусом, щоб дістатися до школи: 16145\n"
     ]
    }
   ],
   "source": [
    "bus = len(df[df['TransportMeans'] == 'school_bus'])\n",
    "print(f\"Кількість учнів, що користується шкільним автобусом, щоб дістатися до школи: {bus}\")"
   ]
  },
  {
   "cell_type": "markdown",
   "id": "c0f45854-d9a6-4507-8aa3-6c8735acb4d8",
   "metadata": {},
   "source": [
    "15. Скільки учнів користується приватним транспортом, щоб дістатися до школи?"
   ]
  },
  {
   "cell_type": "code",
   "execution_count": 17,
   "id": "2635247f-29fb-4d1c-b406-ffba6a1817cf",
   "metadata": {
    "tags": []
   },
   "outputs": [
    {
     "name": "stdout",
     "output_type": "stream",
     "text": [
      "Кількість учнів, що користується приватним транспортом, щоб дістатися до школи: 11362\n"
     ]
    }
   ],
   "source": [
    "private = len(df[df['TransportMeans'] == 'private'])\n",
    "print(f\"Кількість учнів, що користується приватним транспортом, щоб дістатися до школи: {private}\")"
   ]
  },
  {
   "cell_type": "markdown",
   "id": "1038872c-fd8d-4ebb-a5cd-b4b15a4b6171",
   "metadata": {},
   "source": [
    "Передбачте, чи завершив студент курс підготовки до іспиту, на основі його демографічних та академічних даних."
   ]
  },
  {
   "cell_type": "code",
   "execution_count": 18,
   "id": "84d07642-be93-4223-89ba-8aab2adef30a",
   "metadata": {
    "tags": []
   },
   "outputs": [
    {
     "name": "stdout",
     "output_type": "stream",
     "text": [
      "Найкращі параметри: {'max_depth': 10, 'min_samples_leaf': 4, 'min_samples_split': 10}\n",
      "Найкраща точність на навчальному наборі: 0.7024\n",
      "Точність на тестовому наборі: 0.7046900777751591\n"
     ]
    }
   ],
   "source": [
    "from sklearn.model_selection import GridSearchCV\n",
    "from sklearn.tree import DecisionTreeClassifier\n",
    "from sklearn.metrics import accuracy_score\n",
    "\n",
    "df = df.dropna()\n",
    "\n",
    "X = df[['Gender', 'EthnicGroup', 'ParentEduc', 'LunchType', 'ParentMaritalStatus', 'PracticeSport', 'IsFirstChild', 'NrSiblings', 'TransportMeans', 'WklyStudyHours', 'MathScore', 'ReadingScore', 'WritingScore']]\n",
    "y = df['TestPrep']\n",
    "\n",
    "X = pd.get_dummies(X)\n",
    "\n",
    "X_train, X_test, y_train, y_test = X[:15000], X[15000:], y[:15000], y[15000:]\n",
    "\n",
    "model = DecisionTreeClassifier(random_state=42)\n",
    "\n",
    "param_grid = {\n",
    "    'max_depth': [None, 10, 20],\n",
    "    'min_samples_split': [2, 5, 10],\n",
    "    'min_samples_leaf': [1, 2, 4]\n",
    "}\n",
    "\n",
    "grid_search = GridSearchCV(model, param_grid, cv=5)\n",
    "grid_search.fit(X_train, y_train)\n",
    "\n",
    "best_params = grid_search.best_params_\n",
    "print(\"Найкращі параметри:\", best_params)\n",
    "\n",
    "best_score = grid_search.best_score_\n",
    "print(\"Найкраща точність на навчальному наборі:\", best_score)\n",
    "\n",
    "best_model = grid_search.best_estimator_\n",
    "predictions = best_model.predict(X_test)\n",
    "test_accuracy = accuracy_score(y_test, predictions)\n",
    "print(\"Точність на тестовому наборі:\", test_accuracy)"
   ]
  }
 ],
 "metadata": {
  "kernelspec": {
   "display_name": "Python 3 (ipykernel)",
   "language": "python",
   "name": "python3"
  },
  "language_info": {
   "codemirror_mode": {
    "name": "ipython",
    "version": 3
   },
   "file_extension": ".py",
   "mimetype": "text/x-python",
   "name": "python",
   "nbconvert_exporter": "python",
   "pygments_lexer": "ipython3",
   "version": "3.11.5"
  }
 },
 "nbformat": 4,
 "nbformat_minor": 5
}
